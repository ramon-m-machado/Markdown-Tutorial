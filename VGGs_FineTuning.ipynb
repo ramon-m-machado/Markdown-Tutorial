{
  "nbformat": 4,
  "nbformat_minor": 0,
  "metadata": {
    "colab": {
      "provenance": [],
      "collapsed_sections": [
        "0fFezAELlH31",
        "wKVyAvBelOFw",
        "KdhVRJ9llROK",
        "DDYKiHAYlVGY"
      ],
      "gpuType": "T4",
      "include_colab_link": true
    },
    "kernelspec": {
      "name": "python3",
      "display_name": "Python 3"
    },
    "language_info": {
      "name": "python"
    },
    "accelerator": "GPU"
  },
  "cells": [
    {
      "cell_type": "markdown",
      "metadata": {
        "id": "view-in-github",
        "colab_type": "text"
      },
      "source": [
        "<a href=\"https://colab.research.google.com/github/ramon-m-machado/Markdown-Tutorial/blob/master/VGGs_FineTuning.ipynb\" target=\"_parent\"><img src=\"https://colab.research.google.com/assets/colab-badge.svg\" alt=\"Open In Colab\"/></a>"
      ]
    },
    {
      "cell_type": "markdown",
      "source": [
        "# Classification of microorganisms into 10 classes using **VGG16** and **VGG19**\n"
      ],
      "metadata": {
        "id": "41IzRxOG5nDp"
      }
    },
    {
      "cell_type": "markdown",
      "source": [
        "# Environment Setup"
      ],
      "metadata": {
        "id": "NYldcNpGAGMS"
      }
    },
    {
      "cell_type": "markdown",
      "metadata": {
        "id": "0fFezAELlH31"
      },
      "source": [
        "## GPU"
      ]
    },
    {
      "cell_type": "code",
      "execution_count": 44,
      "metadata": {
        "id": "1I3ilKMidh-0",
        "colab": {
          "base_uri": "https://localhost:8080/"
        },
        "outputId": "393606e7-7be3-40b7-bde2-1eaaf1905f5d"
      },
      "outputs": [
        {
          "output_type": "stream",
          "name": "stdout",
          "text": [
            "Found GPU at: /device:GPU:0\n"
          ]
        }
      ],
      "source": [
        "# checking the use of colab's GPU\n",
        "import tensorflow as tf\n",
        "device_name = tf.test.gpu_device_name()\n",
        "if device_name != '/device:GPU:0':\n",
        "  raise SystemError('GPU device not found')\n",
        "print('Found GPU at: {}'.format(device_name))"
      ]
    },
    {
      "cell_type": "markdown",
      "metadata": {
        "id": "wKVyAvBelOFw"
      },
      "source": [
        "## Drive\n"
      ]
    },
    {
      "cell_type": "code",
      "execution_count": 45,
      "metadata": {
        "id": "qdMRONM1MvYu",
        "colab": {
          "base_uri": "https://localhost:8080/"
        },
        "outputId": "ac5dea3f-69bb-4b05-fdeb-2c1cd68fa8e8"
      },
      "outputs": [
        {
          "output_type": "stream",
          "name": "stdout",
          "text": [
            "Mounted at /content/drive\n"
          ]
        }
      ],
      "source": [
        "# get the images from the Google Drive\n",
        "from google.colab import drive\n",
        "drive.mount('/content/drive')"
      ]
    },
    {
      "cell_type": "markdown",
      "metadata": {
        "id": "KdhVRJ9llROK"
      },
      "source": [
        "## Imports"
      ]
    },
    {
      "cell_type": "code",
      "execution_count": 46,
      "metadata": {
        "id": "lCRnwx1_tG6N"
      },
      "outputs": [],
      "source": [
        "# basic imports\n",
        "import numpy as np\n",
        "import pandas as pd"
      ]
    },
    {
      "cell_type": "code",
      "execution_count": 47,
      "metadata": {
        "id": "cs7PkLg5tImy"
      },
      "outputs": [],
      "source": [
        "# plot imports\n",
        "import matplotlib.pyplot as plt\n",
        "import seaborn as sn\n",
        "import plotly.graph_objects as go"
      ]
    },
    {
      "cell_type": "code",
      "execution_count": 48,
      "metadata": {
        "id": "0q0z7G0reKdd"
      },
      "outputs": [],
      "source": [
        "# read and process images\n",
        "import imageio.v2 as iio\n",
        "from PIL import Image\n",
        "import cv2 as cv"
      ]
    },
    {
      "cell_type": "code",
      "execution_count": 49,
      "metadata": {
        "id": "xUFbngUvtKze"
      },
      "outputs": [],
      "source": [
        "# access files in colab's folders\n",
        "import os"
      ]
    },
    {
      "cell_type": "code",
      "execution_count": 50,
      "metadata": {
        "id": "SDnMMA__tMuY"
      },
      "outputs": [],
      "source": [
        "# regex to get the class name from the file name\n",
        "import re"
      ]
    },
    {
      "cell_type": "code",
      "execution_count": 51,
      "metadata": {
        "id": "kDWSXEAbmwCJ"
      },
      "outputs": [],
      "source": [
        "# k-fold (cross validation)\n",
        "from sklearn.model_selection import StratifiedKFold\n",
        "# like top_k_categorical_accuracy but for labels integer-encoded\n",
        "from tensorflow.keras.metrics import sparse_top_k_categorical_accuracy"
      ]
    },
    {
      "cell_type": "code",
      "execution_count": 52,
      "metadata": {
        "id": "gR8BDxFk6756"
      },
      "outputs": [],
      "source": [
        "# imports data augmentation\n",
        "from keras.preprocessing.image import ImageDataGenerator\n",
        "from keras.utils import img_to_array, load_img"
      ]
    },
    {
      "cell_type": "code",
      "execution_count": 53,
      "metadata": {
        "id": "dTjsqidLvMV0"
      },
      "outputs": [],
      "source": [
        "# confusion matrix\n",
        "from plotly.subplots import make_subplots\n",
        "from matplotlib.colors import LinearSegmentedColormap"
      ]
    },
    {
      "cell_type": "code",
      "execution_count": 54,
      "metadata": {
        "id": "houHwri4bVvo"
      },
      "outputs": [],
      "source": [
        "# imports from evaluation metrics\n",
        "from sklearn.metrics import classification_report\n",
        "from sklearn import metrics\n",
        "from sklearn.metrics import accuracy_score"
      ]
    },
    {
      "cell_type": "markdown",
      "source": [
        "## Control constants"
      ],
      "metadata": {
        "id": "OE8TM5OaTy48"
      }
    },
    {
      "cell_type": "markdown",
      "source": [
        "Path info"
      ],
      "metadata": {
        "id": "9VWd9B0sWrM5"
      }
    },
    {
      "cell_type": "code",
      "source": [
        "# define values related to Colab's environment path\n",
        "BASE_PATH = '/content/drive/MyDrive/Colab Notebooks/FAPESP/images/'\n",
        "# BASE_PATH = '/content/drive/MyDrive/micro_data/'\n",
        "FOLDERS = ['Control/', 'Serial/', 'Streak/']  # images will be read from these 3 folders in the base path"
      ],
      "metadata": {
        "id": "QbwDR6voVktw"
      },
      "execution_count": 55,
      "outputs": []
    },
    {
      "cell_type": "markdown",
      "source": [
        "Learning info"
      ],
      "metadata": {
        "id": "MeI7dHZHVbLo"
      }
    },
    {
      "cell_type": "code",
      "source": [
        "# define values related to learning, such as image size and number of classes\n",
        "SIZE = 224  # (size, size)\n",
        "BORDER = 150  # this will be cutted from the original image, because the microorganism are in the center\n",
        "\n",
        "NUMBER_OF_CLASSES = 10\n",
        "\n",
        "BATCH_SIZE = 32"
      ],
      "metadata": {
        "id": "gVkusvDuT6fx"
      },
      "execution_count": 56,
      "outputs": []
    },
    {
      "cell_type": "markdown",
      "metadata": {
        "id": "ZjuJSwFmtoqK"
      },
      "source": [
        "![image.png](data:image/png;base64,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)"
      ]
    },
    {
      "cell_type": "markdown",
      "source": [
        "# Loading and preprocessing images"
      ],
      "metadata": {
        "id": "FOM-UgGxAX4o"
      }
    },
    {
      "cell_type": "markdown",
      "metadata": {
        "id": "3r3LovE0lhe4"
      },
      "source": [
        "## Read images and construct Dataset"
      ]
    },
    {
      "cell_type": "markdown",
      "metadata": {
        "id": "rJq71MMBv8iA"
      },
      "source": [
        "Defining functions to read and preprocess images"
      ]
    },
    {
      "cell_type": "code",
      "execution_count": 57,
      "metadata": {
        "id": "wnfEBEQWwE5W"
      },
      "outputs": [],
      "source": [
        "def preprocessImg(path, size, border):\n",
        "  # read the images in folder\n",
        "  img = np.array(Image.open(path)) #.convert('L')) # uncoment to gray scale images\n",
        "\n",
        "  # standardizating values (interval [0, 1])\n",
        "  imgStandard = img / 255\n",
        "\n",
        "  # cut the border of the image\n",
        "  imgCutted = imgStandard[border:-border,border:-border]\n",
        "\n",
        "  # resize the original image\n",
        "  imgResized = cv.resize(imgCutted, dsize = (size, size))\n",
        "\n",
        "  return imgResized"
      ]
    },
    {
      "cell_type": "code",
      "execution_count": 58,
      "metadata": {
        "id": "KzfymMyIwz4f"
      },
      "outputs": [],
      "source": [
        "def getClassWithRegex(file):\n",
        "  regex_result = re.search(r\"\\d-\\d*_.M_P1C(\\d+)\", file)\n",
        "  imgClass = int(regex_result.groups()[0])-1\n",
        "\n",
        "  y = np.zeros(NUMBER_OF_CLASSES)\n",
        "  y[imgClass] = 1\n",
        "\n",
        "  return y"
      ]
    },
    {
      "cell_type": "code",
      "execution_count": 59,
      "metadata": {
        "id": "KrIoNl5wvV6x"
      },
      "outputs": [],
      "source": [
        "def readDataImagesFromDrive(size, border, batch_size):\n",
        "  for i in range(len(FOLDERS)):\n",
        "    for file in os.listdir(BASE_PATH + FOLDERS[i]):\n",
        "      img = preprocessImg(BASE_PATH + FOLDERS[i] + file, size, border)\n",
        "      imgClass = getClassWithRegex(file)\n",
        "\n",
        "      yield img, imgClass"
      ]
    },
    {
      "cell_type": "code",
      "source": [
        "# constructing the image dataset\n",
        "dataset = tf.data.Dataset.from_generator(\n",
        "    lambda : readDataImagesFromDrive(SIZE, BORDER, BATCH_SIZE),\n",
        "    output_signature=(\n",
        "         tf.TensorSpec(shape=(SIZE, SIZE, 3), dtype=tf.float32),\n",
        "         tf.TensorSpec(shape=(NUMBER_OF_CLASSES), dtype=tf.int8)\n",
        "    )\n",
        ").batch(BATCH_SIZE)"
      ],
      "metadata": {
        "id": "0UVJwdznFuB-"
      },
      "execution_count": 60,
      "outputs": []
    },
    {
      "cell_type": "markdown",
      "metadata": {
        "id": "r9hJbZcIBUME"
      },
      "source": [
        "Images examples"
      ]
    },
    {
      "cell_type": "code",
      "source": [
        "# creating a data iterator to access the actual data\n",
        "iterator = dataset.as_numpy_iterator()"
      ],
      "metadata": {
        "id": "I8UMEFGGLK03"
      },
      "execution_count": 61,
      "outputs": []
    },
    {
      "cell_type": "code",
      "source": [
        "# getting the first batch of data\n",
        "batch = iterator.next()\n",
        "\n",
        "images = batch[0]\n",
        "labels = batch[1]"
      ],
      "metadata": {
        "id": "M7QBGjrnLUml"
      },
      "execution_count": 62,
      "outputs": []
    },
    {
      "cell_type": "code",
      "execution_count": 63,
      "metadata": {
        "id": "jayJGnffrniI",
        "colab": {
          "base_uri": "https://localhost:8080/",
          "height": 451
        },
        "outputId": "87c47007-ec83-4355-fcb4-9c8048937bb4"
      },
      "outputs": [
        {
          "output_type": "execute_result",
          "data": {
            "text/plain": [
              "<matplotlib.image.AxesImage at 0x7a7868e66b30>"
            ]
          },
          "metadata": {},
          "execution_count": 63
        },
        {
          "output_type": "display_data",
          "data": {
            "text/plain": [
              "<Figure size 640x480 with 1 Axes>"
            ],
            "image/png": "[encoded data removed]"
          },
          "metadata": {}
        }
      ],
      "source": [
        "plt.imshow(images[0])"
      ]
    },
    {
      "cell_type": "code",
      "execution_count": 64,
      "metadata": {
        "id": "J6mXyeVFBfqh",
        "colab": {
          "base_uri": "https://localhost:8080/",
          "height": 451
        },
        "outputId": "16badd4f-5b06-46d7-b83e-ba884f5a5916"
      },
      "outputs": [
        {
          "output_type": "execute_result",
          "data": {
            "text/plain": [
              "<matplotlib.image.AxesImage at 0x7a770288bb80>"
            ]
          },
          "metadata": {},
          "execution_count": 64
        },
        {
          "output_type": "display_data",
          "data": {
            "text/plain": [
              "<Figure size 640x480 with 1 Axes>"
            ],
            "image/png": "[encoded data removed]"
          },
          "metadata": {}
        }
      ],
      "source": [
        "plt.imshow(images[15])"
      ]
    },
    {
      "cell_type": "markdown",
      "source": [
        "# Training"
      ],
      "metadata": {
        "id": "dSgI8DxeZTc6"
      }
    },
    {
      "cell_type": "markdown",
      "metadata": {
        "id": "UCTCSitu62wQ"
      },
      "source": [
        "## Data Augmentation"
      ]
    },
    {
      "cell_type": "markdown",
      "metadata": {
        "id": "H5rEv-XVBlia"
      },
      "source": [
        "modify the input images to improve the model generalization"
      ]
    },
    {
      "cell_type": "code",
      "execution_count": 65,
      "metadata": {
        "id": "_Qe6Xy71sb9_"
      },
      "outputs": [],
      "source": [
        "input_shape = (SIZE, SIZE, 3)"
      ]
    },
    {
      "cell_type": "code",
      "execution_count": 66,
      "metadata": {
        "id": "m5WrnYB1Gd7a"
      },
      "outputs": [],
      "source": [
        "dataAugmentation = tf.keras.models.Sequential([\n",
        "  tf.keras.layers.RandomRotation(factor=0.05,fill_mode='nearest', input_shape = input_shape),\n",
        "  tf.keras.layers.RandomZoom(0.05)]\n",
        ")"
      ]
    },
    {
      "cell_type": "markdown",
      "metadata": {
        "id": "VlRrA7Les9EK"
      },
      "source": [
        "## Model"
      ]
    },
    {
      "cell_type": "code",
      "source": [
        "# constructing the CNN model\n",
        "from tensorflow.python.keras.layers import Dense, Conv2D, Flatten, MaxPooling2D\n",
        "\n",
        "cnn = tf.keras.models.Sequential()\n",
        "\n",
        "cnn.add(dataAugmentation)\n",
        "\n",
        "cnn.add(Conv2D(16, (3,3), 1, activation='relu', input_shape=(SIZE, SIZE, 3)))\n",
        "cnn.add(MaxPooling2D())\n",
        "\n",
        "cnn.add(Conv2D(32, (3,3), 1, activation='relu'))\n",
        "cnn.add(MaxPooling2D())\n",
        "\n",
        "cnn.add(Conv2D(16, (3,3), 1, activation='relu'))\n",
        "cnn.add(MaxPooling2D())\n",
        "\n",
        "cnn.add(Flatten())\n",
        "\n",
        "cnn.add(Dense(256, activation='sigmoid'))\n",
        "cnn.add(Dense(NUMBER_OF_CLASSES, activation='softmax'))"
      ],
      "metadata": {
        "id": "4QkBlvHcMHAN"
      },
      "execution_count": null,
      "outputs": []
    },
    {
      "cell_type": "code",
      "source": [
        "# compiling/building the CNN model\n",
        "cnn.compile('adam', loss=tf.keras.losses.CategoricalCrossentropy(), metrics=['accuracy'])\n",
        "cnn.build((None, SIZE, SIZE, 3))\n",
        "cnn.summary()"
      ],
      "metadata": {
        "id": "jY0fKGu0Modq"
      },
      "execution_count": null,
      "outputs": []
    },
    {
      "cell_type": "code",
      "source": [
        "train_dataset, test_dataset = tf.keras.utils.split_dataset(dataset, left_size=0.66, shuffle=True)\n",
        "\n",
        "cnn.fit(\n",
        "  train_dataset,\n",
        "  epochs = 20\n",
        ")\n",
        "\n",
        "cnn.evaluate(test_dataset)"
      ],
      "metadata": {
        "id": "vFYYU-WLM02c"
      },
      "execution_count": null,
      "outputs": []
    },
    {
      "cell_type": "markdown",
      "source": [
        "## VGG16"
      ],
      "metadata": {
        "id": "15VSW4_93XjY"
      }
    },
    {
      "cell_type": "code",
      "source": [
        "from keras.applications.vgg16 import VGG16\n",
        "from keras.models import Model\n",
        "from keras import optimizers\n",
        "from keras.layers import Dense, Flatten"
      ],
      "metadata": {
        "id": "XVWsLZ8u3ZOV"
      },
      "execution_count": 71,
      "outputs": []
    },
    {
      "cell_type": "code",
      "source": [
        "vgg = VGG16(input_shape = input_shape, weights='imagenet', include_top=False)\n",
        "\n",
        "#don't train existing weights\n",
        "for layer in vgg.layers:\n",
        " layer.trainable = False\n",
        "\n",
        "x = Flatten()(vgg.output)\n",
        "prediction = Dense(10, activation='softmax')(x)\n",
        "model = Model(inputs=vgg.input, outputs=prediction)\n",
        "model.compile(loss='categorical_crossentropy',\n",
        "                    optimizer=optimizers.Adam(),\n",
        "                    metrics=['accuracy'])\n",
        "model.summary()"
      ],
      "metadata": {
        "id": "mZy0xYC_3zv9",
        "colab": {
          "base_uri": "https://localhost:8080/"
        },
        "outputId": "b542f367-8868-42a3-ad52-1bd169ef5094"
      },
      "execution_count": 72,
      "outputs": [
        {
          "output_type": "stream",
          "name": "stdout",
          "text": [
            "Model: \"model\"\n",
            "_________________________________________________________________\n",
            " Layer (type)                Output Shape              Param #   \n",
            "=================================================================\n",
            " input_2 (InputLayer)        [(None, 224, 224, 3)]     0         \n",
            "                                                                 \n",
            " block1_conv1 (Conv2D)       (None, 224, 224, 64)      1792      \n",
            "                                                                 \n",
            " block1_conv2 (Conv2D)       (None, 224, 224, 64)      36928     \n",
            "                                                                 \n",
            " block1_pool (MaxPooling2D)  (None, 112, 112, 64)      0         \n",
            "                                                                 \n",
            " block2_conv1 (Conv2D)       (None, 112, 112, 128)     73856     \n",
            "                                                                 \n",
            " block2_conv2 (Conv2D)       (None, 112, 112, 128)     147584    \n",
            "                                                                 \n",
            " block2_pool (MaxPooling2D)  (None, 56, 56, 128)       0         \n",
            "                                                                 \n",
            " block3_conv1 (Conv2D)       (None, 56, 56, 256)       295168    \n",
            "                                                                 \n",
            " block3_conv2 (Conv2D)       (None, 56, 56, 256)       590080    \n",
            "                                                                 \n",
            " block3_conv3 (Conv2D)       (None, 56, 56, 256)       590080    \n",
            "                                                                 \n",
            " block3_pool (MaxPooling2D)  (None, 28, 28, 256)       0         \n",
            "                                                                 \n",
            " block4_conv1 (Conv2D)       (None, 28, 28, 512)       1180160   \n",
            "                                                                 \n",
            " block4_conv2 (Conv2D)       (None, 28, 28, 512)       2359808   \n",
            "                                                                 \n",
            " block4_conv3 (Conv2D)       (None, 28, 28, 512)       2359808   \n",
            "                                                                 \n",
            " block4_pool (MaxPooling2D)  (None, 14, 14, 512)       0         \n",
            "                                                                 \n",
            " block5_conv1 (Conv2D)       (None, 14, 14, 512)       2359808   \n",
            "                                                                 \n",
            " block5_conv2 (Conv2D)       (None, 14, 14, 512)       2359808   \n",
            "                                                                 \n",
            " block5_conv3 (Conv2D)       (None, 14, 14, 512)       2359808   \n",
            "                                                                 \n",
            " block5_pool (MaxPooling2D)  (None, 7, 7, 512)         0         \n",
            "                                                                 \n",
            " flatten (Flatten)           (None, 25088)             0         \n",
            "                                                                 \n",
            " dense (Dense)               (None, 10)                250890    \n",
            "                                                                 \n",
            "=================================================================\n",
            "Total params: 14,965,578\n",
            "Trainable params: 250,890\n",
            "Non-trainable params: 14,714,688\n",
            "_________________________________________________________________\n"
          ]
        }
      ]
    },
    {
      "cell_type": "code",
      "source": [
        "# from keras.callbacks import ModelCheckpoint, LearningRateScheduler\n",
        "# from keras.callbacks import ReduceLROnPlateau\n",
        "\n",
        "# lr_reducer = ReduceLROnPlateau(factor=np.sqrt(0.1),\n",
        "#                                cooldown=0,\n",
        "#                                patience=5,\n",
        "#                                min_lr=0.5e-6)\n",
        "# checkpoint = ModelCheckpoint(filepath='mymodel.h5',\n",
        "#                                verbose=1, save_best_only=True)\n",
        "# callbacks = [checkpoint, lr_reducer]"
      ],
      "metadata": {
        "id": "Mi3I-YlDAQU3"
      },
      "execution_count": null,
      "outputs": []
    },
    {
      "cell_type": "code",
      "source": [
        "train_dataset, test_dataset = tf.keras.utils.split_dataset(dataset, left_size=0.66, shuffle=True)"
      ],
      "metadata": {
        "id": "N2wpGGxlAVf6"
      },
      "execution_count": 74,
      "outputs": []
    },
    {
      "cell_type": "code",
      "source": [
        "history = model.fit_generator(train_dataset,\n",
        "                    epochs = 18, verbose=5,\n",
        "                    validation_data = test_dataset)"
      ],
      "metadata": {
        "colab": {
          "base_uri": "https://localhost:8080/"
        },
        "id": "81_a2ivs8IrH",
        "outputId": "b5aff59e-0166-4e41-d099-d5e762277918"
      },
      "execution_count": 77,
      "outputs": [
        {
          "output_type": "stream",
          "name": "stdout",
          "text": [
            "Epoch 1/18\n"
          ]
        },
        {
          "output_type": "stream",
          "name": "stderr",
          "text": [
            "<ipython-input-77-dc89dd25cd56>:1: UserWarning: `Model.fit_generator` is deprecated and will be removed in a future version. Please use `Model.fit`, which supports generators.\n",
            "  history = model.fit_generator(train_dataset,\n"
          ]
        },
        {
          "output_type": "stream",
          "name": "stdout",
          "text": [
            "Epoch 2/18\n",
            "Epoch 3/18\n",
            "Epoch 4/18\n",
            "Epoch 5/18\n",
            "Epoch 6/18\n",
            "Epoch 7/18\n",
            "Epoch 8/18\n",
            "Epoch 9/18\n",
            "Epoch 10/18\n",
            "Epoch 11/18\n",
            "Epoch 12/18\n",
            "Epoch 13/18\n",
            "Epoch 14/18\n",
            "Epoch 15/18\n",
            "Epoch 16/18\n",
            "Epoch 17/18\n",
            "Epoch 18/18\n"
          ]
        }
      ]
    },
    {
      "cell_type": "code",
      "source": [
        "score = model.evaluate(test_dataset)\n",
        "print('Test Loss:', score[0])\n",
        "print('Test accuracy:', score[1])"
      ],
      "metadata": {
        "colab": {
          "base_uri": "https://localhost:8080/"
        },
        "id": "57QJ5avCB69_",
        "outputId": "3c412271-6bb8-4af8-fb31-26c48642bd3d"
      },
      "execution_count": 78,
      "outputs": [
        {
          "output_type": "stream",
          "name": "stdout",
          "text": [
            "3/3 [==============================] - 0s 75ms/step - loss: 0.7296 - accuracy: 0.7647\n",
            "Test Loss: 0.7295967936515808\n",
            "Test accuracy: 0.7647058963775635\n"
          ]
        }
      ]
    }
  ]
}